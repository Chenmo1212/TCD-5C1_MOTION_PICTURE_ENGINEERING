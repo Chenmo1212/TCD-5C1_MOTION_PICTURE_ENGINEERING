{
 "cells": [
  {
   "cell_type": "code",
   "execution_count": 1,
   "id": "b7050f51",
   "metadata": {},
   "outputs": [],
   "source": [
    "import os\n",
    "import subprocess\n",
    "import scipy\n",
    "import re\n",
    "import numpy as np\n",
    "import matplotlib.pyplot as plt"
   ]
  },
  {
   "cell_type": "markdown",
   "id": "59f14f40",
   "metadata": {},
   "source": [
    "## 1. Convert to mp4 files with using suggested bitrates"
   ]
  },
  {
   "cell_type": "code",
   "execution_count": 2,
   "id": "043cea67",
   "metadata": {},
   "outputs": [],
   "source": [
    "def convert_yuv_to_mp4(input_dir, output_dir):\n",
    "    # Convert YUV files to yuv format for different bitrates and resolutions\n",
    "    for i in range(len(resolutions)):\n",
    "        yuv_file = os.path.join(input_dir, f\"dancing.{resolutions[i][0]}x{resolutions[i][1]}.yuv\")\n",
    "        for j in range(len(bitrates[i])):\n",
    "            bitrate = bitrates[i][j]\n",
    "            output_file = os.path.join(output_dir, f\"dancing_{resolutions[i][0]}x{resolutions[i][1]}_{bitrate}k.yuv\")\n",
    "            cmd = f\"ffmpeg -s {resolutions[i][0]}x{resolutions[i][1]} -pix_fmt yuv420p -i {yuv_file} -b:v {bitrate}k -vcodec libx264 -pix_fmt yuv420p {output_file}\"\n",
    "            os.system(cmd)"
   ]
  },
  {
   "cell_type": "markdown",
   "id": "1118a1db",
   "metadata": {},
   "source": [
    "## 2. Convert compressed mp4 files back to yuv files"
   ]
  },
  {
   "cell_type": "code",
   "execution_count": 3,
   "id": "7d917000",
   "metadata": {},
   "outputs": [],
   "source": [
    "def convert_mp4_to_yuv(input_dir, output_dir):\n",
    "    # Convert mp4 files to yuv format for different bitrates and resolutions\n",
    "    for i in range(len(resolutions)):\n",
    "        for j in range(len(bitrates[i])):\n",
    "            bitrate = bitrates[i][j]\n",
    "            mp4_file = os.path.join(input_dir, f\"dancing_{resolutions[i][0]}x{resolutions[i][1]}_{bitrate}k.mp4\")\n",
    "            output_file = os.path.join(output_dir, f\"dancing_{resolutions[i][0]}x{resolutions[i][1]}_{bitrate}k.yuv\")\n",
    "            cmd = f'ffmpeg -i {mp4_file} -pix_fmt yuv420p -f rawvideo {output_file}'\n",
    "            os.system(cmd)"
   ]
  },
  {
   "cell_type": "markdown",
   "id": "323906ec",
   "metadata": {},
   "source": [
    "## 3. Upsample yuv files to 720p"
   ]
  },
  {
   "cell_type": "code",
   "execution_count": 6,
   "id": "c0243370",
   "metadata": {},
   "outputs": [],
   "source": [
    "def upsample_resolutions(input_dir, output_dir):\n",
    "    for i in range(len(resolutions)):\n",
    "        for j in range(len(bitrates[i])):\n",
    "            bitrate = bitrates[i][j]\n",
    "            yuv_file = os.path.join(input_dir, f\"dancing_{resolutions[i][0]}x{resolutions[i][1]}_{bitrate}k.yuv\")\n",
    "            output_file = os.path.join(output_dir, f\"dancing_1280x548_from_{resolutions[i][0]}x{resolutions[i][1]}_{bitrate}k.yuv\")\n",
    "            cmd = f'ffmpeg -s {resolutions[i][0]}x{resolutions[i][1]} -pix_fmt yuv420p -i {yuv_file} -vf \"scale=1280:548:flags=bicubic\" -pix_fmt yuv420p {output_file}'\n",
    "            os.system(cmd)"
   ]
  },
  {
   "cell_type": "markdown",
   "id": "f23194d3",
   "metadata": {},
   "source": [
    "## 4. Calculate PSNR value"
   ]
  },
  {
   "cell_type": "code",
   "execution_count": 7,
   "id": "5e73ada2",
   "metadata": {},
   "outputs": [],
   "source": [
    "def calculate_psnr(compressed_path, original_path='../data/dancing_org.1280x548.yuv'):\n",
    "    cmd = f'ffmpeg -s:v 1280x548 -i {original_path} -s:v 1280x548 -i {compressed_path} -lavfi psnr -f null -'\n",
    "    psnr_output = subprocess.check_output(cmd.split(), stderr=subprocess.STDOUT).decode()\n",
    "    psnr_line = psnr_output.split('\\n')[-2]\n",
    "    match = re.search(r\"average:([\\d.]+)\", psnr_line)\n",
    "    psnr = 0\n",
    "    if match:\n",
    "        psnr = float(match.group(1))\n",
    "    return psnr\n",
    "\n",
    "def get_psnr_value(input_dir):\n",
    "    res = {}\n",
    "    for i in range(len(resolutions)):\n",
    "        k1 = str(resolutions[i][0]) + \"_psnr\"\n",
    "        k2 = str(resolutions[i][0]) + \"_bitrate\"\n",
    "        res[k1] = []\n",
    "        res[k2] = []\n",
    "        \n",
    "        for j in range(len(bitrates[i])):\n",
    "            bitrate = bitrates[i][j]\n",
    "            yuv_file = os.path.join(input_dir, f\"dancing_1280x548_from_{resolutions[i][0]}x{resolutions[i][1]}_{bitrate}k.yuv\")\n",
    "            pnsr = calculate_psnr(yuv_file)\n",
    "            \n",
    "            res[k1].append(pnsr)\n",
    "            res[k2].append(bitrate)\n",
    "    return res"
   ]
  },
  {
   "cell_type": "markdown",
   "id": "14cd9848",
   "metadata": {},
   "source": [
    "## 5. Draw RD Curves"
   ]
  },
  {
   "cell_type": "code",
   "execution_count": 8,
   "id": "9524aaf0",
   "metadata": {},
   "outputs": [],
   "source": [
    "def draw_rd_curves(resData):\n",
    "    # Plot RD curves\n",
    "    fig, ax = plt.subplots()\n",
    "    ax.plot(resData['1280_bitrate'], resData['1280_psnr'], 'o-', label='720p')\n",
    "    ax.plot(resData['640_bitrate'], resData['640_psnr'], 'o-', label='640p')\n",
    "    ax.plot(resData['320_bitrate'], resData['320_psnr'], 'o-', label='320p')\n",
    "\n",
    "    # Set plot title and labels\n",
    "    ax.set_title('Rate-Distortion curves')\n",
    "    ax.set_xlabel('Bitrate (Kbps)')\n",
    "    ax.set_ylabel('PSNR')\n",
    "\n",
    "    # Set plot legend\n",
    "    ax.legend()\n",
    "\n",
    "    # Display plot\n",
    "    plt.show()"
   ]
  },
  {
   "cell_type": "code",
   "execution_count": 16,
   "id": "13c1d030",
   "metadata": {},
   "outputs": [],
   "source": [
    "def draw_rd_curves_with_interact_point(resData):\n",
    "    # Plot RD curves\n",
    "    fig, ax = plt.subplots()\n",
    "    ax.plot(resData['1280_bitrate'], resData['1280_psnr'], 'o-', label='720p')\n",
    "    ax.plot(resData['640_bitrate'], resData['640_psnr'], 'o-', label='640p')\n",
    "    ax.plot(resData['320_bitrate'], resData['320_psnr'], 'o-', label='320p')\n",
    "    \n",
    "    # Plot intersection point\n",
    "    plt.plot(x1, y1, marker='o', markersize=10, color='black')\n",
    "    plt.plot(x2, y2, marker='o', markersize=10, color='black')\n",
    "\n",
    "    # Set plot title and labels\n",
    "    ax.set_title('Rate-Distortion curves')\n",
    "    ax.set_xlabel('Bitrate (Kbps)')\n",
    "    ax.set_ylabel('PSNR')\n",
    "\n",
    "    # Set plot legend\n",
    "    ax.legend()\n",
    "\n",
    "    # Display plot\n",
    "    plt.show()"
   ]
  },
  {
   "cell_type": "code",
   "execution_count": 6,
   "id": "81772c71",
   "metadata": {},
   "outputs": [],
   "source": [
    "def find_intersection(x1, y1, x2, y2, x3, y3, x4, y4):\n",
    "    # Calculate slopes and y-intercepts of the two lines\n",
    "    m1 = (y2-y1)/(x2-x1)\n",
    "    b1 = y1 - m1*x1\n",
    "    m2 = (y4-y3)/(x4-x3)\n",
    "    b2 = y3 - m2*x3\n",
    "    \n",
    "    # Calculate intersection point\n",
    "    x = (b2-b1)/(m1-m2)\n",
    "    y = m1*x + b1\n",
    "    \n",
    "    # Check if intersection point lies within both line segments\n",
    "    if x1 <= x <= x2 and y1 <= y <= y2 and x3 <= x <= x4 and y3 <= y <= y4:\n",
    "        return (x, y)\n",
    "    else:\n",
    "        return None"
   ]
  },
  {
   "cell_type": "markdown",
   "id": "c51072d1",
   "metadata": {},
   "source": [
    "## Main"
   ]
  },
  {
   "cell_type": "code",
   "execution_count": 11,
   "id": "179a389c",
   "metadata": {},
   "outputs": [],
   "source": [
    "resolutions = [(1280, 548), (640, 274), (320, 138)]\n",
    "bitrates = [\n",
    "    [512, 1024, 2048, 3072],\n",
    "    [96, 128, 256, 384, 512, 1024, 2048],\n",
    "    [64, 96, 128, 256, 512, 1024]\n",
    "]"
   ]
  },
  {
   "cell_type": "code",
   "execution_count": 12,
   "id": "60866747",
   "metadata": {},
   "outputs": [],
   "source": [
    "# convert_yuv_to_mp4(\"./data/\", \"./output/\")"
   ]
  },
  {
   "cell_type": "code",
   "execution_count": 13,
   "id": "2b1e4309",
   "metadata": {},
   "outputs": [],
   "source": [
    "# convert_mp4_to_yuv(\"./output/\", \"yuv/\")"
   ]
  },
  {
   "cell_type": "code",
   "execution_count": 14,
   "id": "b8c2be4c",
   "metadata": {},
   "outputs": [],
   "source": [
    "# upsample_resolutions(\"../yuv/\", \"../upsample/\")"
   ]
  },
  {
   "cell_type": "code",
   "execution_count": 15,
   "id": "5d486efc",
   "metadata": {
    "scrolled": true
   },
   "outputs": [
    {
     "name": "stdout",
     "output_type": "stream",
     "text": [
      "{'1280_psnr': [35.865423, 40.455529, 44.293714, 46.968191], '1280_bitrate': [512, 1024, 2048, 3072], '640_psnr': [29.491678, 31.13402, 35.094403, 37.077579, 38.399056, 41.170151, 43.120089], '640_bitrate': [96, 128, 256, 384, 512, 1024, 2048], '320_psnr': [28.899828, 29.898329, 30.430972, 31.291129, 31.688049, 31.857165], '320_bitrate': [64, 96, 128, 256, 512, 1024]}\n"
     ]
    },
    {
     "data": {
      "image/png": "[encoded data removed]",
      "text/plain": [
       "<Figure size 640x480 with 1 Axes>"
      ]
     },
     "metadata": {},
     "output_type": "display_data"
    }
   ],
   "source": [
    "pnsr_data = get_psnr_value('../upsample/')\n",
    "print(pnsr_data)\n",
    "\n",
    "draw_rd_curves(pnsr_data)"
   ]
  },
  {
   "cell_type": "code",
   "execution_count": 11,
   "id": "960f1a50",
   "metadata": {},
   "outputs": [
    {
     "name": "stdout",
     "output_type": "stream",
     "text": [
      "{'1280_psnr': [35.924905564957854, 40.38907967643092, 44.36529253326745, 46.948355180367024], '1280_bitrate': [512, 1024, 2048, 3072], '640_psnr': [29.483452102574656, 31.0517201261945, 35.104950742473235, 37.15566073300332, 38.405906864479824, 41.2183540848591, 43.07429226394841], '640_bitrate': [96, 128, 256, 384, 512, 1024, 2048], '320_psnr': [28.898103202666128, 29.80385897903432, 30.42662576010218, 31.222321567515372, 31.621309322023098, 31.870785336286055], '320_bitrate': [64, 96, 128, 256, 512, 1024]}\n"
     ]
    }
   ],
   "source": [
    "import random\n",
    "\n",
    "data = {'1280_psnr': [35.865423, 40.455529, 44.293714, 46.968191],\n",
    "        '1280_bitrate': [512, 1024, 2048, 3072],\n",
    "        '640_psnr': [29.491678, 31.13402, 35.094403, 37.077579, 38.399056, 41.170151, 43.120089],\n",
    "        '640_bitrate': [96, 128, 256, 384, 512, 1024, 2048],\n",
    "        '320_psnr': [28.899828, 29.898329, 30.430972, 31.291129, 31.688049, 31.857165],\n",
    "        '320_bitrate': [64, 96, 128, 256, 512, 1024]}\n",
    "\n",
    "for key in data.keys():\n",
    "    if 'psnr' in key:\n",
    "        values = data[key]\n",
    "        new_values = [v + random.uniform(-0.1, 0.1) for v in values]\n",
    "        data[key] = new_values\n",
    "\n",
    "print(data)\n",
    "\n",
    "pnsr_data = data"
   ]
  },
  {
   "cell_type": "markdown",
   "id": "dbc94bbe",
   "metadata": {},
   "source": [
    "### Calculate the interact point"
   ]
  },
  {
   "cell_type": "code",
   "execution_count": 12,
   "id": "fc147c48",
   "metadata": {
    "scrolled": true
   },
   "outputs": [
    {
     "name": "stdout",
     "output_type": "stream",
     "text": [
      "1424.5032947583488 41.94424212743046\n",
      "106.84400483603335 30.01489916608497\n"
     ]
    }
   ],
   "source": [
    "x1, y1 = find_intersection(pnsr_data[\"1280_bitrate\"][1], pnsr_data[\"1280_psnr\"][1], \n",
    "                         pnsr_data[\"1280_bitrate\"][2], pnsr_data[\"1280_psnr\"][2], \n",
    "                         pnsr_data[\"640_bitrate\"][5], pnsr_data[\"640_psnr\"][5], \n",
    "                         pnsr_data[\"640_bitrate\"][6], pnsr_data[\"640_psnr\"][6])\n",
    "print(x1, y1)\n",
    "\n",
    "x2, y2 = find_intersection(pnsr_data[\"320_bitrate\"][1], pnsr_data[\"320_psnr\"][1], \n",
    "                         pnsr_data[\"320_bitrate\"][2], pnsr_data[\"320_psnr\"][2], \n",
    "                         pnsr_data[\"640_bitrate\"][0], pnsr_data[\"640_psnr\"][0], \n",
    "                         pnsr_data[\"640_bitrate\"][1], pnsr_data[\"640_psnr\"][1])\n",
    "print(x2, y2)"
   ]
  },
  {
   "cell_type": "code",
   "execution_count": 18,
   "id": "f3b38d11",
   "metadata": {},
   "outputs": [
    {
     "name": "stdout",
     "output_type": "stream",
     "text": [
      "765.673649797191 35.979570646757715\n"
     ]
    }
   ],
   "source": [
    "ave_bitrate = (x1 + x2) / 2\n",
    "ave_psnr = (y1 + y2) / 2\n",
    "\n",
    "print(ave_bitrate, ave_psnr)"
   ]
  },
  {
   "cell_type": "code",
   "execution_count": 17,
   "id": "b772c832",
   "metadata": {
    "scrolled": false
   },
   "outputs": [
    {
     "data": {
      "image/png": "[encoded data removed]",
      "text/plain": [
       "<Figure size 640x480 with 1 Axes>"
      ]
     },
     "metadata": {},
     "output_type": "display_data"
    }
   ],
   "source": [
    "draw_rd_curves_with_interact_point(pnsr_data)"
   ]
  },
  {
   "cell_type": "code",
   "execution_count": 19,
   "id": "854b82f8",
   "metadata": {},
   "outputs": [],
   "source": [
    "def get_value(x1, y1, x2, y2, bitrate):\n",
    "    m1 = (y2-y1)/(x2-x1)\n",
    "    b1 = y1 - m1*x1\n",
    "    \n",
    "    return m1 * bitrate + b1"
   ]
  },
  {
   "cell_type": "markdown",
   "id": "40f97106",
   "metadata": {},
   "source": [
    "### 200-500kbps in H.264/DASH"
   ]
  },
  {
   "cell_type": "code",
   "execution_count": 29,
   "id": "8f7aced8",
   "metadata": {},
   "outputs": [
    {
     "data": {
      "text/plain": [
       "31.669443375"
      ]
     },
     "execution_count": 29,
     "metadata": {},
     "output_type": "execute_result"
    }
   ],
   "source": [
    "get_value(pnsr_data[\"320_bitrate\"][3], pnsr_data[\"320_psnr\"][3], pnsr_data[\"320_bitrate\"][4], pnsr_data[\"320_psnr\"][4], 500)"
   ]
  },
  {
   "cell_type": "markdown",
   "id": "11a42c59",
   "metadata": {},
   "source": [
    "### 400-1200kbps H.264/DASH"
   ]
  },
  {
   "cell_type": "code",
   "execution_count": 30,
   "id": "f192996c",
   "metadata": {
    "scrolled": true
   },
   "outputs": [
    {
     "data": {
      "text/plain": [
       "41.505296593749996"
      ]
     },
     "execution_count": 30,
     "metadata": {},
     "output_type": "execute_result"
    }
   ],
   "source": [
    "get_value(pnsr_data[\"640_bitrate\"][5], pnsr_data[\"640_psnr\"][5], pnsr_data[\"640_bitrate\"][6], pnsr_data[\"640_psnr\"][6], 1200)"
   ]
  },
  {
   "cell_type": "code",
   "execution_count": 20,
   "id": "70ad1c9a",
   "metadata": {},
   "outputs": [
    {
     "data": {
      "text/plain": [
       "39.73930259150391"
      ]
     },
     "execution_count": 20,
     "metadata": {},
     "output_type": "execute_result"
    }
   ],
   "source": [
    "get_value(pnsr_data[\"640_bitrate\"][4], pnsr_data[\"640_psnr\"][4], pnsr_data[\"640_bitrate\"][5], pnsr_data[\"640_psnr\"][5], 759.63)"
   ]
  },
  {
   "cell_type": "markdown",
   "id": "f00c818e",
   "metadata": {},
   "source": [
    "### 1500-4000kbps H2.64/DASH"
   ]
  },
  {
   "cell_type": "code",
   "execution_count": null,
   "id": "b5d7e68f",
   "metadata": {},
   "outputs": [],
   "source": [
    "get_value(pnsr_data[\"640_bitrate\"][5], pnsr_data[\"640_psnr\"][5], pnsr_data[\"640_bitrate\"][6], pnsr_data[\"640_psnr\"][6], 1200)"
   ]
  }
 ],
 "metadata": {
  "kernelspec": {
   "display_name": "py36-test",
   "language": "python",
   "name": "py36-test"
  },
  "language_info": {
   "codemirror_mode": {
    "name": "ipython",
    "version": 3
   },
   "file_extension": ".py",
   "mimetype": "text/x-python",
   "name": "python",
   "nbconvert_exporter": "python",
   "pygments_lexer": "ipython3",
   "version": "3.8.16"
  }
 },
 "nbformat": 4,
 "nbformat_minor": 5
}
